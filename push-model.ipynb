{
 "cells": [
  {
   "cell_type": "markdown",
   "metadata": {},
   "source": [
    "# Publish trained model"
   ]
  },
  {
   "cell_type": "code",
   "execution_count": null,
   "metadata": {},
   "outputs": [],
   "source": [
    "!pip install boto3\n",
    "\n",
    "from datetime import datetime\n",
    "import os\n",
    "\n",
    "import boto3"
   ]
  },
  {
   "cell_type": "markdown",
   "metadata": {},
   "source": [
    "Read and initialize parameters"
   ]
  },
  {
   "cell_type": "code",
   "execution_count": null,
   "metadata": {},
   "outputs": [],
   "source": [
    "s3_endpoint_url = os.environ.get('S3_ENDPOINT_URL')\n",
    "s3_access_key = os.environ.get('S3_ACCESS_KEY')\n",
    "s3_secret_key = os.environ.get('S3_SECRET_KEY')\n",
    "s3_bucket_prefix = 'anomaly-detection'\n",
    "\n",
    "timestamp = datetime.now().strftime('%y%m%d%H%M')\n",
    "s3_bucket_name = f'{s3_bucket_prefix}-{timestamp}'"
   ]
  },
  {
   "cell_type": "markdown",
   "metadata": {},
   "source": [
    "Upload model to S3 bucket"
   ]
  },
  {
   "cell_type": "code",
   "execution_count": null,
   "metadata": {},
   "outputs": [],
   "source": [
    "print(f'Uploading model to bucket {s3_bucket_name}'\n",
    "      f'to S3 storage at {s3_endpoint_url}')\n",
    "s3_client = boto3.client(\n",
    "    's3', endpoint_url=s3_endpoint_url,\n",
    "    aws_access_key_id=s3_access_key, aws_secret_access_key=s3_secret_key\n",
    ")\n",
    "s3_client.create_bucket(Bucket=s3_bucket_name)\n",
    "with open('model.joblib', 'rb') as model_file:\n",
    "    s3_client.upload_fileobj(model_file, s3_bucket_name, 'model.joblib')"
   ]
  }
 ],
 "metadata": {
  "interpreter": {
   "hash": "e7370f93d1d0cde622a1f8e1c04877d8463912d04d973331ad4851f04de6915a"
  },
  "kernelspec": {
   "display_name": "Python 3",
   "language": "python",
   "name": "python3"
  },
  "language_info": {
   "codemirror_mode": {
    "name": "ipython",
    "version": 3
   },
   "file_extension": ".py",
   "mimetype": "text/x-python",
   "name": "python",
   "nbconvert_exporter": "python",
   "pygments_lexer": "ipython3",
   "version": "3.8.6"
  }
 },
 "nbformat": 4,
 "nbformat_minor": 4
}
